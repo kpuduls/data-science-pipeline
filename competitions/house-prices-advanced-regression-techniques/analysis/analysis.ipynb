{
 "cells": [
  {
   "cell_type": "code",
   "execution_count": 1,
   "id": "6a372b57",
   "metadata": {},
   "outputs": [],
   "source": [
    "import numpy as np\n",
    "import pandas as pd\n",
    "import matplotlib.pyplot as plt\n",
    "import seaborn as sns"
   ]
  },
  {
   "cell_type": "code",
   "execution_count": 2,
   "id": "da328bd0",
   "metadata": {},
   "outputs": [],
   "source": [
    "%matplotlib inline\n",
    "plt.style.use('bmh')"
   ]
  },
  {
   "cell_type": "code",
   "execution_count": 3,
   "id": "ee425707",
   "metadata": {},
   "outputs": [],
   "source": [
    "df_test = pd.read_csv(r'C:\\Temp\\pipeline\\data-science-pipeline\\competitions\\house-prices-advanced-regression-techniques\\data\\test.csv')\n",
    "df_train = pd.read_csv(r'C:\\Temp\\pipeline\\data-science-pipeline\\competitions\\house-prices-advanced-regression-techniques\\data\\train.csv')"
   ]
  },
  {
   "cell_type": "code",
   "execution_count": 4,
   "id": "3d0690ea",
   "metadata": {},
   "outputs": [
    {
     "data": {
      "text/html": [
       "<div>\n",
       "<style scoped>\n",
       "    .dataframe tbody tr th:only-of-type {\n",
       "        vertical-align: middle;\n",
       "    }\n",
       "\n",
       "    .dataframe tbody tr th {\n",
       "        vertical-align: top;\n",
       "    }\n",
       "\n",
       "    .dataframe thead th {\n",
       "        text-align: right;\n",
       "    }\n",
       "</style>\n",
       "<table border=\"1\" class=\"dataframe\">\n",
       "  <thead>\n",
       "    <tr style=\"text-align: right;\">\n",
       "      <th></th>\n",
       "      <th>Id</th>\n",
       "      <th>MSSubClass</th>\n",
       "      <th>MSZoning</th>\n",
       "      <th>LotFrontage</th>\n",
       "      <th>LotArea</th>\n",
       "      <th>Street</th>\n",
       "      <th>Alley</th>\n",
       "      <th>LotShape</th>\n",
       "      <th>LandContour</th>\n",
       "      <th>Utilities</th>\n",
       "      <th>...</th>\n",
       "      <th>PoolArea</th>\n",
       "      <th>PoolQC</th>\n",
       "      <th>Fence</th>\n",
       "      <th>MiscFeature</th>\n",
       "      <th>MiscVal</th>\n",
       "      <th>MoSold</th>\n",
       "      <th>YrSold</th>\n",
       "      <th>SaleType</th>\n",
       "      <th>SaleCondition</th>\n",
       "      <th>SalePrice</th>\n",
       "    </tr>\n",
       "  </thead>\n",
       "  <tbody>\n",
       "    <tr>\n",
       "      <th>0</th>\n",
       "      <td>1</td>\n",
       "      <td>60</td>\n",
       "      <td>RL</td>\n",
       "      <td>65.0</td>\n",
       "      <td>8450</td>\n",
       "      <td>Pave</td>\n",
       "      <td>NaN</td>\n",
       "      <td>Reg</td>\n",
       "      <td>Lvl</td>\n",
       "      <td>AllPub</td>\n",
       "      <td>...</td>\n",
       "      <td>0</td>\n",
       "      <td>NaN</td>\n",
       "      <td>NaN</td>\n",
       "      <td>NaN</td>\n",
       "      <td>0</td>\n",
       "      <td>2</td>\n",
       "      <td>2008</td>\n",
       "      <td>WD</td>\n",
       "      <td>Normal</td>\n",
       "      <td>208500</td>\n",
       "    </tr>\n",
       "    <tr>\n",
       "      <th>1</th>\n",
       "      <td>2</td>\n",
       "      <td>20</td>\n",
       "      <td>RL</td>\n",
       "      <td>80.0</td>\n",
       "      <td>9600</td>\n",
       "      <td>Pave</td>\n",
       "      <td>NaN</td>\n",
       "      <td>Reg</td>\n",
       "      <td>Lvl</td>\n",
       "      <td>AllPub</td>\n",
       "      <td>...</td>\n",
       "      <td>0</td>\n",
       "      <td>NaN</td>\n",
       "      <td>NaN</td>\n",
       "      <td>NaN</td>\n",
       "      <td>0</td>\n",
       "      <td>5</td>\n",
       "      <td>2007</td>\n",
       "      <td>WD</td>\n",
       "      <td>Normal</td>\n",
       "      <td>181500</td>\n",
       "    </tr>\n",
       "    <tr>\n",
       "      <th>2</th>\n",
       "      <td>3</td>\n",
       "      <td>60</td>\n",
       "      <td>RL</td>\n",
       "      <td>68.0</td>\n",
       "      <td>11250</td>\n",
       "      <td>Pave</td>\n",
       "      <td>NaN</td>\n",
       "      <td>IR1</td>\n",
       "      <td>Lvl</td>\n",
       "      <td>AllPub</td>\n",
       "      <td>...</td>\n",
       "      <td>0</td>\n",
       "      <td>NaN</td>\n",
       "      <td>NaN</td>\n",
       "      <td>NaN</td>\n",
       "      <td>0</td>\n",
       "      <td>9</td>\n",
       "      <td>2008</td>\n",
       "      <td>WD</td>\n",
       "      <td>Normal</td>\n",
       "      <td>223500</td>\n",
       "    </tr>\n",
       "    <tr>\n",
       "      <th>3</th>\n",
       "      <td>4</td>\n",
       "      <td>70</td>\n",
       "      <td>RL</td>\n",
       "      <td>60.0</td>\n",
       "      <td>9550</td>\n",
       "      <td>Pave</td>\n",
       "      <td>NaN</td>\n",
       "      <td>IR1</td>\n",
       "      <td>Lvl</td>\n",
       "      <td>AllPub</td>\n",
       "      <td>...</td>\n",
       "      <td>0</td>\n",
       "      <td>NaN</td>\n",
       "      <td>NaN</td>\n",
       "      <td>NaN</td>\n",
       "      <td>0</td>\n",
       "      <td>2</td>\n",
       "      <td>2006</td>\n",
       "      <td>WD</td>\n",
       "      <td>Abnorml</td>\n",
       "      <td>140000</td>\n",
       "    </tr>\n",
       "    <tr>\n",
       "      <th>4</th>\n",
       "      <td>5</td>\n",
       "      <td>60</td>\n",
       "      <td>RL</td>\n",
       "      <td>84.0</td>\n",
       "      <td>14260</td>\n",
       "      <td>Pave</td>\n",
       "      <td>NaN</td>\n",
       "      <td>IR1</td>\n",
       "      <td>Lvl</td>\n",
       "      <td>AllPub</td>\n",
       "      <td>...</td>\n",
       "      <td>0</td>\n",
       "      <td>NaN</td>\n",
       "      <td>NaN</td>\n",
       "      <td>NaN</td>\n",
       "      <td>0</td>\n",
       "      <td>12</td>\n",
       "      <td>2008</td>\n",
       "      <td>WD</td>\n",
       "      <td>Normal</td>\n",
       "      <td>250000</td>\n",
       "    </tr>\n",
       "  </tbody>\n",
       "</table>\n",
       "<p>5 rows × 81 columns</p>\n",
       "</div>"
      ],
      "text/plain": [
       "   Id  MSSubClass MSZoning  LotFrontage  LotArea Street Alley LotShape  \\\n",
       "0   1          60       RL         65.0     8450   Pave   NaN      Reg   \n",
       "1   2          20       RL         80.0     9600   Pave   NaN      Reg   \n",
       "2   3          60       RL         68.0    11250   Pave   NaN      IR1   \n",
       "3   4          70       RL         60.0     9550   Pave   NaN      IR1   \n",
       "4   5          60       RL         84.0    14260   Pave   NaN      IR1   \n",
       "\n",
       "  LandContour Utilities  ... PoolArea PoolQC Fence MiscFeature MiscVal MoSold  \\\n",
       "0         Lvl    AllPub  ...        0    NaN   NaN         NaN       0      2   \n",
       "1         Lvl    AllPub  ...        0    NaN   NaN         NaN       0      5   \n",
       "2         Lvl    AllPub  ...        0    NaN   NaN         NaN       0      9   \n",
       "3         Lvl    AllPub  ...        0    NaN   NaN         NaN       0      2   \n",
       "4         Lvl    AllPub  ...        0    NaN   NaN         NaN       0     12   \n",
       "\n",
       "  YrSold  SaleType  SaleCondition  SalePrice  \n",
       "0   2008        WD         Normal     208500  \n",
       "1   2007        WD         Normal     181500  \n",
       "2   2008        WD         Normal     223500  \n",
       "3   2006        WD        Abnorml     140000  \n",
       "4   2008        WD         Normal     250000  \n",
       "\n",
       "[5 rows x 81 columns]"
      ]
     },
     "execution_count": 4,
     "metadata": {},
     "output_type": "execute_result"
    }
   ],
   "source": [
    "df_train.head()"
   ]
  },
  {
   "cell_type": "code",
   "execution_count": 5,
   "id": "64a2102c",
   "metadata": {},
   "outputs": [
    {
     "data": {
      "text/html": [
       "<div>\n",
       "<style scoped>\n",
       "    .dataframe tbody tr th:only-of-type {\n",
       "        vertical-align: middle;\n",
       "    }\n",
       "\n",
       "    .dataframe tbody tr th {\n",
       "        vertical-align: top;\n",
       "    }\n",
       "\n",
       "    .dataframe thead th {\n",
       "        text-align: right;\n",
       "    }\n",
       "</style>\n",
       "<table border=\"1\" class=\"dataframe\">\n",
       "  <thead>\n",
       "    <tr style=\"text-align: right;\">\n",
       "      <th></th>\n",
       "      <th>Id</th>\n",
       "      <th>MSSubClass</th>\n",
       "      <th>MSZoning</th>\n",
       "      <th>LotFrontage</th>\n",
       "      <th>LotArea</th>\n",
       "      <th>Street</th>\n",
       "      <th>Alley</th>\n",
       "      <th>LotShape</th>\n",
       "      <th>LandContour</th>\n",
       "      <th>Utilities</th>\n",
       "      <th>...</th>\n",
       "      <th>ScreenPorch</th>\n",
       "      <th>PoolArea</th>\n",
       "      <th>PoolQC</th>\n",
       "      <th>Fence</th>\n",
       "      <th>MiscFeature</th>\n",
       "      <th>MiscVal</th>\n",
       "      <th>MoSold</th>\n",
       "      <th>YrSold</th>\n",
       "      <th>SaleType</th>\n",
       "      <th>SaleCondition</th>\n",
       "    </tr>\n",
       "  </thead>\n",
       "  <tbody>\n",
       "    <tr>\n",
       "      <th>0</th>\n",
       "      <td>1461</td>\n",
       "      <td>20</td>\n",
       "      <td>RH</td>\n",
       "      <td>80.0</td>\n",
       "      <td>11622</td>\n",
       "      <td>Pave</td>\n",
       "      <td>NaN</td>\n",
       "      <td>Reg</td>\n",
       "      <td>Lvl</td>\n",
       "      <td>AllPub</td>\n",
       "      <td>...</td>\n",
       "      <td>120</td>\n",
       "      <td>0</td>\n",
       "      <td>NaN</td>\n",
       "      <td>MnPrv</td>\n",
       "      <td>NaN</td>\n",
       "      <td>0</td>\n",
       "      <td>6</td>\n",
       "      <td>2010</td>\n",
       "      <td>WD</td>\n",
       "      <td>Normal</td>\n",
       "    </tr>\n",
       "    <tr>\n",
       "      <th>1</th>\n",
       "      <td>1462</td>\n",
       "      <td>20</td>\n",
       "      <td>RL</td>\n",
       "      <td>81.0</td>\n",
       "      <td>14267</td>\n",
       "      <td>Pave</td>\n",
       "      <td>NaN</td>\n",
       "      <td>IR1</td>\n",
       "      <td>Lvl</td>\n",
       "      <td>AllPub</td>\n",
       "      <td>...</td>\n",
       "      <td>0</td>\n",
       "      <td>0</td>\n",
       "      <td>NaN</td>\n",
       "      <td>NaN</td>\n",
       "      <td>Gar2</td>\n",
       "      <td>12500</td>\n",
       "      <td>6</td>\n",
       "      <td>2010</td>\n",
       "      <td>WD</td>\n",
       "      <td>Normal</td>\n",
       "    </tr>\n",
       "    <tr>\n",
       "      <th>2</th>\n",
       "      <td>1463</td>\n",
       "      <td>60</td>\n",
       "      <td>RL</td>\n",
       "      <td>74.0</td>\n",
       "      <td>13830</td>\n",
       "      <td>Pave</td>\n",
       "      <td>NaN</td>\n",
       "      <td>IR1</td>\n",
       "      <td>Lvl</td>\n",
       "      <td>AllPub</td>\n",
       "      <td>...</td>\n",
       "      <td>0</td>\n",
       "      <td>0</td>\n",
       "      <td>NaN</td>\n",
       "      <td>MnPrv</td>\n",
       "      <td>NaN</td>\n",
       "      <td>0</td>\n",
       "      <td>3</td>\n",
       "      <td>2010</td>\n",
       "      <td>WD</td>\n",
       "      <td>Normal</td>\n",
       "    </tr>\n",
       "    <tr>\n",
       "      <th>3</th>\n",
       "      <td>1464</td>\n",
       "      <td>60</td>\n",
       "      <td>RL</td>\n",
       "      <td>78.0</td>\n",
       "      <td>9978</td>\n",
       "      <td>Pave</td>\n",
       "      <td>NaN</td>\n",
       "      <td>IR1</td>\n",
       "      <td>Lvl</td>\n",
       "      <td>AllPub</td>\n",
       "      <td>...</td>\n",
       "      <td>0</td>\n",
       "      <td>0</td>\n",
       "      <td>NaN</td>\n",
       "      <td>NaN</td>\n",
       "      <td>NaN</td>\n",
       "      <td>0</td>\n",
       "      <td>6</td>\n",
       "      <td>2010</td>\n",
       "      <td>WD</td>\n",
       "      <td>Normal</td>\n",
       "    </tr>\n",
       "    <tr>\n",
       "      <th>4</th>\n",
       "      <td>1465</td>\n",
       "      <td>120</td>\n",
       "      <td>RL</td>\n",
       "      <td>43.0</td>\n",
       "      <td>5005</td>\n",
       "      <td>Pave</td>\n",
       "      <td>NaN</td>\n",
       "      <td>IR1</td>\n",
       "      <td>HLS</td>\n",
       "      <td>AllPub</td>\n",
       "      <td>...</td>\n",
       "      <td>144</td>\n",
       "      <td>0</td>\n",
       "      <td>NaN</td>\n",
       "      <td>NaN</td>\n",
       "      <td>NaN</td>\n",
       "      <td>0</td>\n",
       "      <td>1</td>\n",
       "      <td>2010</td>\n",
       "      <td>WD</td>\n",
       "      <td>Normal</td>\n",
       "    </tr>\n",
       "  </tbody>\n",
       "</table>\n",
       "<p>5 rows × 80 columns</p>\n",
       "</div>"
      ],
      "text/plain": [
       "     Id  MSSubClass MSZoning  LotFrontage  LotArea Street Alley LotShape  \\\n",
       "0  1461          20       RH         80.0    11622   Pave   NaN      Reg   \n",
       "1  1462          20       RL         81.0    14267   Pave   NaN      IR1   \n",
       "2  1463          60       RL         74.0    13830   Pave   NaN      IR1   \n",
       "3  1464          60       RL         78.0     9978   Pave   NaN      IR1   \n",
       "4  1465         120       RL         43.0     5005   Pave   NaN      IR1   \n",
       "\n",
       "  LandContour Utilities  ... ScreenPorch PoolArea PoolQC  Fence MiscFeature  \\\n",
       "0         Lvl    AllPub  ...         120        0    NaN  MnPrv         NaN   \n",
       "1         Lvl    AllPub  ...           0        0    NaN    NaN        Gar2   \n",
       "2         Lvl    AllPub  ...           0        0    NaN  MnPrv         NaN   \n",
       "3         Lvl    AllPub  ...           0        0    NaN    NaN         NaN   \n",
       "4         HLS    AllPub  ...         144        0    NaN    NaN         NaN   \n",
       "\n",
       "  MiscVal MoSold  YrSold  SaleType  SaleCondition  \n",
       "0       0      6    2010        WD         Normal  \n",
       "1   12500      6    2010        WD         Normal  \n",
       "2       0      3    2010        WD         Normal  \n",
       "3       0      6    2010        WD         Normal  \n",
       "4       0      1    2010        WD         Normal  \n",
       "\n",
       "[5 rows x 80 columns]"
      ]
     },
     "execution_count": 5,
     "metadata": {},
     "output_type": "execute_result"
    }
   ],
   "source": [
    "df_test.head()"
   ]
  },
  {
   "cell_type": "code",
   "execution_count": 6,
   "id": "87b274d4",
   "metadata": {},
   "outputs": [],
   "source": [
    "df = pd.concat([df_train, df_test], axis = 0, sort = False).reset_index()"
   ]
  },
  {
   "cell_type": "code",
   "execution_count": 7,
   "id": "94c0632d",
   "metadata": {},
   "outputs": [
    {
     "data": {
      "text/plain": [
       "<bound method NDFrame.describe of       index    Id  MSSubClass MSZoning  LotFrontage  LotArea Street Alley  \\\n",
       "0         0     1          60       RL         65.0     8450   Pave   NaN   \n",
       "1         1     2          20       RL         80.0     9600   Pave   NaN   \n",
       "2         2     3          60       RL         68.0    11250   Pave   NaN   \n",
       "3         3     4          70       RL         60.0     9550   Pave   NaN   \n",
       "4         4     5          60       RL         84.0    14260   Pave   NaN   \n",
       "...     ...   ...         ...      ...          ...      ...    ...   ...   \n",
       "2914   1454  2915         160       RM         21.0     1936   Pave   NaN   \n",
       "2915   1455  2916         160       RM         21.0     1894   Pave   NaN   \n",
       "2916   1456  2917          20       RL        160.0    20000   Pave   NaN   \n",
       "2917   1457  2918          85       RL         62.0    10441   Pave   NaN   \n",
       "2918   1458  2919          60       RL         74.0     9627   Pave   NaN   \n",
       "\n",
       "     LotShape LandContour  ... PoolArea PoolQC  Fence MiscFeature MiscVal  \\\n",
       "0         Reg         Lvl  ...        0    NaN    NaN         NaN       0   \n",
       "1         Reg         Lvl  ...        0    NaN    NaN         NaN       0   \n",
       "2         IR1         Lvl  ...        0    NaN    NaN         NaN       0   \n",
       "3         IR1         Lvl  ...        0    NaN    NaN         NaN       0   \n",
       "4         IR1         Lvl  ...        0    NaN    NaN         NaN       0   \n",
       "...       ...         ...  ...      ...    ...    ...         ...     ...   \n",
       "2914      Reg         Lvl  ...        0    NaN    NaN         NaN       0   \n",
       "2915      Reg         Lvl  ...        0    NaN    NaN         NaN       0   \n",
       "2916      Reg         Lvl  ...        0    NaN    NaN         NaN       0   \n",
       "2917      Reg         Lvl  ...        0    NaN  MnPrv        Shed     700   \n",
       "2918      Reg         Lvl  ...        0    NaN    NaN         NaN       0   \n",
       "\n",
       "     MoSold YrSold SaleType  SaleCondition  SalePrice  \n",
       "0         2   2008       WD         Normal   208500.0  \n",
       "1         5   2007       WD         Normal   181500.0  \n",
       "2         9   2008       WD         Normal   223500.0  \n",
       "3         2   2006       WD        Abnorml   140000.0  \n",
       "4        12   2008       WD         Normal   250000.0  \n",
       "...     ...    ...      ...            ...        ...  \n",
       "2914      6   2006       WD         Normal        NaN  \n",
       "2915      4   2006       WD        Abnorml        NaN  \n",
       "2916      9   2006       WD        Abnorml        NaN  \n",
       "2917      7   2006       WD         Normal        NaN  \n",
       "2918     11   2006       WD         Normal        NaN  \n",
       "\n",
       "[2919 rows x 82 columns]>"
      ]
     },
     "execution_count": 7,
     "metadata": {},
     "output_type": "execute_result"
    }
   ],
   "source": [
    "df.describe"
   ]
  },
  {
   "cell_type": "code",
   "execution_count": 8,
   "id": "5a7d0255",
   "metadata": {},
   "outputs": [],
   "source": [
    "missing = df.isna().sum().div(df.index.max())"
   ]
  },
  {
   "cell_type": "code",
   "execution_count": 9,
   "id": "607978dc",
   "metadata": {},
   "outputs": [
    {
     "data": {
      "text/plain": [
       "2918"
      ]
     },
     "execution_count": 9,
     "metadata": {},
     "output_type": "execute_result"
    }
   ],
   "source": [
    "df.index.max()"
   ]
  },
  {
   "cell_type": "code",
   "execution_count": 10,
   "id": "51062727",
   "metadata": {},
   "outputs": [
    {
     "data": {
      "text/plain": [
       "index            0.000000\n",
       "Id               0.000000\n",
       "MSSubClass       0.000000\n",
       "MSZoning         0.001371\n",
       "LotFrontage      0.166552\n",
       "                   ...   \n",
       "MoSold           0.000000\n",
       "YrSold           0.000000\n",
       "SaleType         0.000343\n",
       "SaleCondition    0.000000\n",
       "SalePrice        0.500000\n",
       "Length: 82, dtype: float64"
      ]
     },
     "execution_count": 10,
     "metadata": {},
     "output_type": "execute_result"
    }
   ],
   "source": [
    "missing"
   ]
  },
  {
   "cell_type": "code",
   "execution_count": 11,
   "id": "fa52f96f",
   "metadata": {},
   "outputs": [
    {
     "data": {
      "text/plain": [
       "index            0.000000\n",
       "Id               0.000000\n",
       "MSSubClass       0.000000\n",
       "MSZoning         0.001371\n",
       "LotFrontage      0.166552\n",
       "                   ...   \n",
       "MoSold           0.000000\n",
       "YrSold           0.000000\n",
       "SaleType         0.000343\n",
       "SaleCondition    0.000000\n",
       "SalePrice        0.500000\n",
       "Length: 82, dtype: float64"
      ]
     },
     "execution_count": 11,
     "metadata": {},
     "output_type": "execute_result"
    }
   ],
   "source": [
    "missing"
   ]
  },
  {
   "cell_type": "code",
   "execution_count": 12,
   "id": "210fdc6b",
   "metadata": {},
   "outputs": [],
   "source": [
    "missing = missing[missing.values > 0.25]"
   ]
  },
  {
   "cell_type": "code",
   "execution_count": 13,
   "id": "5a603a41",
   "metadata": {},
   "outputs": [
    {
     "data": {
      "text/plain": [
       "Alley          0.932488\n",
       "FireplaceQu    0.486635\n",
       "PoolQC         0.996916\n",
       "Fence          0.804661\n",
       "MiscFeature    0.964359\n",
       "dtype: float64"
      ]
     },
     "execution_count": 13,
     "metadata": {},
     "output_type": "execute_result"
    }
   ],
   "source": [
    "missing.head()"
   ]
  },
  {
   "cell_type": "code",
   "execution_count": 14,
   "id": "893b6bc6",
   "metadata": {},
   "outputs": [
    {
     "data": {
      "text/plain": [
       "<AxesSubplot:>"
      ]
     },
     "execution_count": 14,
     "metadata": {},
     "output_type": "execute_result"
    },
    {
     "data": {
      "image/png": "[encoded data removed]",
      "text/plain": [
       "<Figure size 432x288 with 1 Axes>"
      ]
     },
     "metadata": {
      "needs_background": "light"
     },
     "output_type": "display_data"
    }
   ],
   "source": [
    "sns.barplot(x = missing.index, y = missing.values)"
   ]
  },
  {
   "cell_type": "code",
   "execution_count": 15,
   "id": "9c341409",
   "metadata": {},
   "outputs": [],
   "source": [
    "df = df.drop(['Alley', 'PoolQC', 'MiscFeature', 'Fence'], axis = 1)"
   ]
  },
  {
   "cell_type": "code",
   "execution_count": 16,
   "id": "af766be1",
   "metadata": {},
   "outputs": [],
   "source": [
    "categorical = df.select_dtypes(include = ['object'])\n",
    "numerical = df.select_dtypes(exclude = ['object'])"
   ]
  },
  {
   "cell_type": "code",
   "execution_count": 17,
   "id": "fdd7b72a",
   "metadata": {},
   "outputs": [],
   "source": [
    "categorical_missing = categorical.isna().sum()"
   ]
  },
  {
   "cell_type": "code",
   "execution_count": 18,
   "id": "eb9052ce",
   "metadata": {},
   "outputs": [],
   "source": [
    "manyna = categorical_missing[categorical_missing > 25].index.tolist()"
   ]
  },
  {
   "cell_type": "code",
   "execution_count": 19,
   "id": "3f97b468",
   "metadata": {},
   "outputs": [],
   "source": [
    "df[manyna] = df[manyna].fillna('None')"
   ]
  },
  {
   "cell_type": "code",
   "execution_count": 20,
   "id": "43c66d6a",
   "metadata": {},
   "outputs": [],
   "source": [
    "lowna = categorical_missing[categorical_missing <= 25].index.tolist()"
   ]
  },
  {
   "cell_type": "code",
   "execution_count": 21,
   "id": "7b27b92f",
   "metadata": {},
   "outputs": [],
   "source": [
    "df[lowna] = df[lowna].fillna(df[lowna].mode().iloc[0])"
   ]
  },
  {
   "cell_type": "code",
   "execution_count": 22,
   "id": "13b9fb20",
   "metadata": {},
   "outputs": [],
   "source": [
    "numerical_missing = numerical.isna().sum()"
   ]
  },
  {
   "cell_type": "code",
   "execution_count": 23,
   "id": "be7b7118",
   "metadata": {},
   "outputs": [
    {
     "data": {
      "text/plain": [
       "index               0\n",
       "Id                  0\n",
       "MSSubClass          0\n",
       "LotFrontage       486\n",
       "LotArea             0\n",
       "OverallQual         0\n",
       "OverallCond         0\n",
       "YearBuilt           0\n",
       "YearRemodAdd        0\n",
       "MasVnrArea         23\n",
       "BsmtFinSF1          1\n",
       "BsmtFinSF2          1\n",
       "BsmtUnfSF           1\n",
       "TotalBsmtSF         1\n",
       "1stFlrSF            0\n",
       "2ndFlrSF            0\n",
       "LowQualFinSF        0\n",
       "GrLivArea           0\n",
       "BsmtFullBath        2\n",
       "BsmtHalfBath        2\n",
       "FullBath            0\n",
       "HalfBath            0\n",
       "BedroomAbvGr        0\n",
       "KitchenAbvGr        0\n",
       "TotRmsAbvGrd        0\n",
       "Fireplaces          0\n",
       "GarageYrBlt       159\n",
       "GarageCars          1\n",
       "GarageArea          1\n",
       "WoodDeckSF          0\n",
       "OpenPorchSF         0\n",
       "EnclosedPorch       0\n",
       "3SsnPorch           0\n",
       "ScreenPorch         0\n",
       "PoolArea            0\n",
       "MiscVal             0\n",
       "MoSold              0\n",
       "YrSold              0\n",
       "SalePrice        1459\n",
       "dtype: int64"
      ]
     },
     "execution_count": 23,
     "metadata": {},
     "output_type": "execute_result"
    }
   ],
   "source": [
    "numerical_missing"
   ]
  },
  {
   "cell_type": "code",
   "execution_count": 24,
   "id": "fc1073cf",
   "metadata": {},
   "outputs": [],
   "source": [
    "test = df[df['GarageType'] == 'None']"
   ]
  },
  {
   "cell_type": "code",
   "execution_count": 25,
   "id": "571a3f0e",
   "metadata": {},
   "outputs": [
    {
     "data": {
      "text/plain": [
       "39     NaN\n",
       "48     NaN\n",
       "78     NaN\n",
       "88     NaN\n",
       "89     NaN\n",
       "        ..\n",
       "2893   NaN\n",
       "2909   NaN\n",
       "2913   NaN\n",
       "2914   NaN\n",
       "2917   NaN\n",
       "Name: GarageYrBlt, Length: 157, dtype: float64"
      ]
     },
     "execution_count": 25,
     "metadata": {},
     "output_type": "execute_result"
    }
   ],
   "source": [
    "test['GarageYrBlt']"
   ]
  },
  {
   "cell_type": "code",
   "execution_count": 26,
   "id": "c4aac66d",
   "metadata": {},
   "outputs": [
    {
     "name": "stdout",
     "output_type": "stream",
     "text": [
      "<class 'pandas.core.frame.DataFrame'>\n",
      "RangeIndex: 2919 entries, 0 to 2918\n",
      "Data columns (total 78 columns):\n",
      " #   Column         Non-Null Count  Dtype  \n",
      "---  ------         --------------  -----  \n",
      " 0   index          2919 non-null   int64  \n",
      " 1   Id             2919 non-null   int64  \n",
      " 2   MSSubClass     2919 non-null   int64  \n",
      " 3   MSZoning       2919 non-null   object \n",
      " 4   LotFrontage    2433 non-null   float64\n",
      " 5   LotArea        2919 non-null   int64  \n",
      " 6   Street         2919 non-null   object \n",
      " 7   LotShape       2919 non-null   object \n",
      " 8   LandContour    2919 non-null   object \n",
      " 9   Utilities      2919 non-null   object \n",
      " 10  LotConfig      2919 non-null   object \n",
      " 11  LandSlope      2919 non-null   object \n",
      " 12  Neighborhood   2919 non-null   object \n",
      " 13  Condition1     2919 non-null   object \n",
      " 14  Condition2     2919 non-null   object \n",
      " 15  BldgType       2919 non-null   object \n",
      " 16  HouseStyle     2919 non-null   object \n",
      " 17  OverallQual    2919 non-null   int64  \n",
      " 18  OverallCond    2919 non-null   int64  \n",
      " 19  YearBuilt      2919 non-null   int64  \n",
      " 20  YearRemodAdd   2919 non-null   int64  \n",
      " 21  RoofStyle      2919 non-null   object \n",
      " 22  RoofMatl       2919 non-null   object \n",
      " 23  Exterior1st    2919 non-null   object \n",
      " 24  Exterior2nd    2919 non-null   object \n",
      " 25  MasVnrType     2919 non-null   object \n",
      " 26  MasVnrArea     2896 non-null   float64\n",
      " 27  ExterQual      2919 non-null   object \n",
      " 28  ExterCond      2919 non-null   object \n",
      " 29  Foundation     2919 non-null   object \n",
      " 30  BsmtQual       2919 non-null   object \n",
      " 31  BsmtCond       2919 non-null   object \n",
      " 32  BsmtExposure   2919 non-null   object \n",
      " 33  BsmtFinType1   2919 non-null   object \n",
      " 34  BsmtFinSF1     2918 non-null   float64\n",
      " 35  BsmtFinType2   2919 non-null   object \n",
      " 36  BsmtFinSF2     2918 non-null   float64\n",
      " 37  BsmtUnfSF      2918 non-null   float64\n",
      " 38  TotalBsmtSF    2918 non-null   float64\n",
      " 39  Heating        2919 non-null   object \n",
      " 40  HeatingQC      2919 non-null   object \n",
      " 41  CentralAir     2919 non-null   object \n",
      " 42  Electrical     2919 non-null   object \n",
      " 43  1stFlrSF       2919 non-null   int64  \n",
      " 44  2ndFlrSF       2919 non-null   int64  \n",
      " 45  LowQualFinSF   2919 non-null   int64  \n",
      " 46  GrLivArea      2919 non-null   int64  \n",
      " 47  BsmtFullBath   2917 non-null   float64\n",
      " 48  BsmtHalfBath   2917 non-null   float64\n",
      " 49  FullBath       2919 non-null   int64  \n",
      " 50  HalfBath       2919 non-null   int64  \n",
      " 51  BedroomAbvGr   2919 non-null   int64  \n",
      " 52  KitchenAbvGr   2919 non-null   int64  \n",
      " 53  KitchenQual    2919 non-null   object \n",
      " 54  TotRmsAbvGrd   2919 non-null   int64  \n",
      " 55  Functional     2919 non-null   object \n",
      " 56  Fireplaces     2919 non-null   int64  \n",
      " 57  FireplaceQu    2919 non-null   object \n",
      " 58  GarageType     2919 non-null   object \n",
      " 59  GarageYrBlt    2760 non-null   float64\n",
      " 60  GarageFinish   2919 non-null   object \n",
      " 61  GarageCars     2918 non-null   float64\n",
      " 62  GarageArea     2918 non-null   float64\n",
      " 63  GarageQual     2919 non-null   object \n",
      " 64  GarageCond     2919 non-null   object \n",
      " 65  PavedDrive     2919 non-null   object \n",
      " 66  WoodDeckSF     2919 non-null   int64  \n",
      " 67  OpenPorchSF    2919 non-null   int64  \n",
      " 68  EnclosedPorch  2919 non-null   int64  \n",
      " 69  3SsnPorch      2919 non-null   int64  \n",
      " 70  ScreenPorch    2919 non-null   int64  \n",
      " 71  PoolArea       2919 non-null   int64  \n",
      " 72  MiscVal        2919 non-null   int64  \n",
      " 73  MoSold         2919 non-null   int64  \n",
      " 74  YrSold         2919 non-null   int64  \n",
      " 75  SaleType       2919 non-null   object \n",
      " 76  SaleCondition  2919 non-null   object \n",
      " 77  SalePrice      1460 non-null   float64\n",
      "dtypes: float64(12), int64(27), object(39)\n",
      "memory usage: 1.7+ MB\n"
     ]
    }
   ],
   "source": [
    "df.info()"
   ]
  },
  {
   "cell_type": "code",
   "execution_count": 27,
   "id": "eba2aa25",
   "metadata": {},
   "outputs": [],
   "source": [
    "df = df.drop(['GarageCars', 'GarageYrBlt', 'TotRmsAbvGrd'], axis = 1)"
   ]
  },
  {
   "cell_type": "code",
   "execution_count": 48,
   "id": "4b41f839",
   "metadata": {},
   "outputs": [],
   "source": [
    "stillmissing = df.isna().sum()[df.isna().sum().values != 0]"
   ]
  },
  {
   "cell_type": "code",
   "execution_count": 49,
   "id": "057619b1",
   "metadata": {},
   "outputs": [
    {
     "data": {
      "text/plain": [
       "SalePrice    1441\n",
       "dtype: int64"
      ]
     },
     "execution_count": 49,
     "metadata": {},
     "output_type": "execute_result"
    }
   ],
   "source": [
    "stillmissing"
   ]
  },
  {
   "cell_type": "code",
   "execution_count": 39,
   "id": "2fa0bbcb",
   "metadata": {},
   "outputs": [],
   "source": [
    "lowmis = stillmissing[stillmissing <= 25].index.tolist()"
   ]
  },
  {
   "cell_type": "code",
   "execution_count": 40,
   "id": "5733fd49",
   "metadata": {},
   "outputs": [
    {
     "data": {
      "text/plain": [
       "['MasVnrArea',\n",
       " 'BsmtFinSF1',\n",
       " 'BsmtFinSF2',\n",
       " 'BsmtUnfSF',\n",
       " 'TotalBsmtSF',\n",
       " 'BsmtFullBath',\n",
       " 'BsmtHalfBath',\n",
       " 'GarageArea']"
      ]
     },
     "execution_count": 40,
     "metadata": {},
     "output_type": "execute_result"
    }
   ],
   "source": [
    "lowmis"
   ]
  },
  {
   "cell_type": "code",
   "execution_count": 44,
   "id": "48f79e95",
   "metadata": {},
   "outputs": [],
   "source": [
    "df = df.dropna(subset = lowmis, axis = 0)"
   ]
  },
  {
   "cell_type": "code",
   "execution_count": 47,
   "id": "15bc634c",
   "metadata": {},
   "outputs": [
    {
     "name": "stderr",
     "output_type": "stream",
     "text": [
      "C:\\Users\\kpudu01\\AppData\\Local\\Temp\\ipykernel_13840\\301696511.py:1: SettingWithCopyWarning: \n",
      "A value is trying to be set on a copy of a slice from a DataFrame.\n",
      "Try using .loc[row_indexer,col_indexer] = value instead\n",
      "\n",
      "See the caveats in the documentation: https://pandas.pydata.org/pandas-docs/stable/user_guide/indexing.html#returning-a-view-versus-a-copy\n",
      "  df['LotFrontage'] = df['LotFrontage'].fillna(df['LotFrontage'].median())\n"
     ]
    }
   ],
   "source": [
    "df['LotFrontage'] = df['LotFrontage'].fillna(df['LotFrontage'].median()) "
   ]
  },
  {
   "cell_type": "code",
   "execution_count": 50,
   "id": "fe784d39",
   "metadata": {},
   "outputs": [],
   "source": [
    "df = df.drop(['Heating','RoofMatl','Condition2','Street','Utilities'],axis=1)"
   ]
  },
  {
   "cell_type": "code",
   "execution_count": null,
   "id": "890af957",
   "metadata": {},
   "outputs": [],
   "source": []
  }
 ],
 "metadata": {
  "kernelspec": {
   "display_name": "Python 3 (ipykernel)",
   "language": "python",
   "name": "python3"
  },
  "language_info": {
   "codemirror_mode": {
    "name": "ipython",
    "version": 3
   },
   "file_extension": ".py",
   "mimetype": "text/x-python",
   "name": "python",
   "nbconvert_exporter": "python",
   "pygments_lexer": "ipython3",
   "version": "3.9.7"
  }
 },
 "nbformat": 4,
 "nbformat_minor": 5
}
